{
 "cells": [
  {
   "cell_type": "code",
   "execution_count": 1,
   "metadata": {
    "collapsed": true
   },
   "outputs": [],
   "source": [
    "import torch \n",
    "import torchvision\n",
    "from torchvision.datasets import CIFAR10\n",
    "from torch.utils.data import Dataset, DataLoader\n",
    "from torchvision import transforms, utils\n",
    "import torch.nn as nn\n",
    "import torch.nn.functional as F\n",
    "from torch.autograd import Variable\n",
    "from torch.optim import Adam\n",
    "\n",
    "import numpy\n",
    "import matplotlib.pyplot as plt\n",
    "import sys\n",
    "\n",
    "\n",
    "import IPython"
   ]
  },
  {
   "cell_type": "markdown",
   "metadata": {},
   "source": [
    "# Loading the data set"
   ]
  },
  {
   "cell_type": "markdown",
   "metadata": {},
   "source": [
    "* pytorch read the images using PIL\n",
    "* we have to transform the images to torch tensors using ToTensor()\n",
    "* we can also normalize the tensors \n",
    "\n",
    "##### note:\n",
    "    - torch uses chanels_first notation (m, n_c, n_w, n_h)"
   ]
  },
  {
   "cell_type": "code",
   "execution_count": 2,
   "metadata": {
    "collapsed": true
   },
   "outputs": [],
   "source": [
    "transform = transforms.Compose(\n",
    "    [transforms.ToTensor(),\n",
    "     transforms.Normalize((0.5, 0.5, 0.5), (0.5, 0.5, 0.5))\n",
    "    ])"
   ]
  },
  {
   "cell_type": "markdown",
   "metadata": {},
   "source": [
    "###### Downloading the dataset\n",
    "CIFAR10 is sub-class of **Dataset** "
   ]
  },
  {
   "cell_type": "code",
   "execution_count": 3,
   "metadata": {},
   "outputs": [
    {
     "name": "stdout",
     "output_type": "stream",
     "text": [
      "Downloading https://www.cs.toronto.edu/~kriz/cifar-10-python.tar.gz to data/cifar-10-python.tar.gz\n",
      "Files already downloaded and verified\n"
     ]
    }
   ],
   "source": [
    "training_set = CIFAR10(\"data/\",train=True,download=True, transform=transform)\n",
    "test_set = CIFAR10(\"data/\",train=False,download=True, transform=transform)"
   ]
  },
  {
   "cell_type": "markdown",
   "metadata": {},
   "source": [
    "###### Sampling from the data\n",
    "**DataLoaders** used to sample from a **Dataset** using a **Sampler**"
   ]
  },
  {
   "cell_type": "code",
   "execution_count": 4,
   "metadata": {
    "collapsed": true
   },
   "outputs": [],
   "source": [
    "training_loader = DataLoader(training_set, batch_size=32)\n",
    "test_loader = DataLoader(test_set, batch_size=32)"
   ]
  },
  {
   "cell_type": "markdown",
   "metadata": {},
   "source": [
    "**Iterators** used to sample the data"
   ]
  },
  {
   "cell_type": "code",
   "execution_count": 5,
   "metadata": {
    "collapsed": true
   },
   "outputs": [],
   "source": [
    "training_data_iterator = iter(training_loader)\n",
    "test_data_iterator = iter(test_loader)"
   ]
  },
  {
   "cell_type": "code",
   "execution_count": 6,
   "metadata": {
    "collapsed": true
   },
   "outputs": [],
   "source": [
    "classes = ('plane', 'car', 'bird', 'cat','deer', 'dog', 'frog', 'horse', 'ship', 'truck')"
   ]
  },
  {
   "cell_type": "code",
   "execution_count": null,
   "metadata": {
    "collapsed": true
   },
   "outputs": [],
   "source": [
    "def imshow(img):\n",
    "    img = img / 2 + 0.5     # unnormalize\n",
    "    npimg = img.numpy()\n",
    "    plt.figure(figsize=(20, 20))\n",
    "    plt.imshow(numpy.transpose(npimg, (1, 2, 0)))"
   ]
  },
  {
   "cell_type": "markdown",
   "metadata": {},
   "source": [
    "# Creating the architecture "
   ]
  },
  {
   "cell_type": "markdown",
   "metadata": {},
   "source": [
    "**nn.Module**:\n",
    "\n",
    "- represent a neural network, or any other component (layers.. )\n",
    "- have a forward pass and a backword pass\n",
    "- we have to implement the forward pass \n",
    "- pytorch and autoGrade handels the bacword pass  "
   ]
  },
  {
   "cell_type": "markdown",
   "metadata": {},
   "source": [
    "**.cuda()**:\n",
    "\n",
    "- used to move the component to the GPU\n",
    "- used on **nn.Module** and on **torch.Tensor**"
   ]
  },
  {
   "cell_type": "code",
   "execution_count": 90,
   "metadata": {
    "collapsed": true
   },
   "outputs": [],
   "source": [
    "class Net(nn.Module):\n",
    "    def __init__(self):\n",
    "        super(Net, self).__init__()\n",
    "        self.conv1 = nn.Conv2d(3, 16, 5)\n",
    "        self.pool = nn.MaxPool2d(2, 2)\n",
    "        \n",
    "        self.conv2 = nn.Conv2d(16, 32, 3)\n",
    "        self.conv3 = nn.Conv2d(32, 64, 3)\n",
    "        self.fc1 = nn.Linear(64 * 10 * 10, 1024)\n",
    "        self.fc2 = nn.Linear(1024, 128)\n",
    "        self.fc3 = nn.Linear(128, 10)\n",
    "\n",
    "    def forward(self, x):\n",
    "        x = self.pool(F.relu(self.conv1(x)))\n",
    "        x = F.relu(self.conv2(x))\n",
    "        x = F.relu(self.conv3(x))\n",
    "        x = x.view(-1, 64 * 10 * 10)\n",
    "        x = F.relu(self.fc1(x))\n",
    "        x = F.relu(self.fc2(x))\n",
    "        x = self.fc3(x)\n",
    "        return x"
   ]
  },
  {
   "cell_type": "code",
   "execution_count": 91,
   "metadata": {
    "collapsed": true
   },
   "outputs": [],
   "source": [
    "net = Net().cuda()\n",
    "criterion = nn.CrossEntropyLoss()\n",
    "optimizer = Adam(net.parameters(), lr=0.001)\n",
    "history = []"
   ]
  },
  {
   "cell_type": "markdown",
   "metadata": {},
   "source": [
    "# Training the Model"
   ]
  },
  {
   "cell_type": "markdown",
   "metadata": {},
   "source": [
    "**Optimizer**:\n",
    "\n",
    "- **lr**: learning rate \n",
    "- **weight_decay**: l2_norm regularizer\n",
    "\n",
    "**note**:\n",
    "the optimizer accumilate the grades so we have to use ***optimizer.zero_grad()*** every iteration\n",
    "\n",
    "we use ***optimizer.step()*** to perform one weight update"
   ]
  },
  {
   "cell_type": "code",
   "execution_count": 96,
   "metadata": {
    "scrolled": false
   },
   "outputs": [
    {
     "name": "stdout",
     "output_type": "stream",
     "text": [
      " loss : 0.064553, total epoch loss: 169.258057\n",
      " epoch1 loss: 169.258057\n",
      " loss : 0.002775, total epoch loss: 154.059479\n",
      " epoch2 loss: 154.059479\n",
      " loss : 0.017421, total epoch loss: 149.386612\n",
      " epoch3 loss: 149.386612\n",
      " loss : 0.005446, total epoch loss: 136.098404\n",
      " epoch4 loss: 136.098404\n",
      " loss : 0.071831, total epoch loss: 128.242142\n",
      " epoch5 loss: 128.242142\n",
      " loss : 0.002068, total epoch loss: 127.268707\n",
      " epoch6 loss: 127.268707\n",
      " loss : 0.019953, total epoch loss: 106.480797\n",
      " epoch7 loss: 106.480797\n",
      " loss : 0.020378, total epoch loss: 110.730385\n",
      " epoch8 loss: 110.730385\n",
      " loss : 0.004514, total epoch loss: 102.912598\n",
      " epoch9 loss: 102.912598\n",
      " loss : 0.101195, total epoch loss: 96.224869\n",
      " epoch10 loss: 96.224869\n"
     ]
    }
   ],
   "source": [
    "# this will run twice\n",
    "epochs = 10\n",
    "for epoch in range(epochs):\n",
    "    epoch_loss = torch.FloatTensor([0])\n",
    "    for sample_x, sample_y in iter(training_loader):\n",
    "        x, y = Variable(sample_x.cuda()), Variable(sample_y.cuda())\n",
    "        \n",
    "        optimizer.zero_grad()\n",
    "        \n",
    "        y_hat = net(x)\n",
    "        \n",
    "        loss = criterion(y_hat, y)\n",
    "        loss.backward()\n",
    "        optimizer.step()\n",
    "        \n",
    "        epoch_loss += loss.cpu().data\n",
    "        sys.stdout.write(\"\\r loss : {:6f}, total epoch loss: {:6f}\".format(loss.data[0], epoch_loss[0]))\n",
    "    \n",
    "    history.append(epoch_loss[0])    \n",
    "    print (\"\\n epoch{} loss: {:6f}\".format(epoch +1 , epoch_loss[0]))"
   ]
  },
  {
   "cell_type": "markdown",
   "metadata": {},
   "source": [
    "# ploting the learning curve"
   ]
  },
  {
   "cell_type": "code",
   "execution_count": 99,
   "metadata": {
    "scrolled": true
   },
   "outputs": [
    {
     "data": {
      "text/plain": [
       "[<matplotlib.lines.Line2D at 0x7fe72d4af3c8>]"
      ]
     },
     "execution_count": 99,
     "metadata": {},
     "output_type": "execute_result"
    },
    {
     "data": {
      "image/png": "[encoded data removed]",
      "text/plain": [
       "<matplotlib.figure.Figure at 0x7fe72d5f7b38>"
      ]
     },
     "metadata": {},
     "output_type": "display_data"
    }
   ],
   "source": [
    "plt.plot(numpy.array(history))"
   ]
  },
  {
   "cell_type": "markdown",
   "metadata": {},
   "source": [
    "# Testing"
   ]
  },
  {
   "cell_type": "code",
   "execution_count": 101,
   "metadata": {
    "collapsed": true
   },
   "outputs": [],
   "source": [
    "dataiter = iter(test_loader)\n",
    "images, labels = dataiter.next()\n",
    "\n",
    "\n",
    "imshow(torchvision.utils.make_grid(images))"
   ]
  },
  {
   "cell_type": "code",
   "execution_count": 117,
   "metadata": {},
   "outputs": [
    {
     "name": "stdout",
     "output_type": "stream",
     "text": [
      "  cat  ship  ship plane  frog  frog   car  frog   cat   car plane truck   dog horse truck  ship   dog horse  ship  frog horse plane  deer truck   dog  bird  deer plane truck  frog  frog   dog\n"
     ]
    }
   ],
   "source": [
    "print(' '.join('%5s' % classes[labels[j]] for j in range(32)))"
   ]
  },
  {
   "cell_type": "code",
   "execution_count": 119,
   "metadata": {
    "collapsed": true
   },
   "outputs": [],
   "source": [
    "images_var = Variable(images.cuda())\n",
    "outputs = net(images_var)"
   ]
  },
  {
   "cell_type": "code",
   "execution_count": 120,
   "metadata": {},
   "outputs": [
    {
     "name": "stdout",
     "output_type": "stream",
     "text": [
      "Predicted:    cat  ship  ship plane  deer  frog truck  frog   cat   car  bird truck  deer horse truck  ship   dog horse  ship  frog horse  bird plane truck  bird  bird  deer plane truck  frog  frog   dog\n"
     ]
    }
   ],
   "source": [
    "_, predicted = torch.max(outputs.data, 1)\n",
    "print('Predicted: ', ' '.join('%5s' % classes[predicted[j]]\n",
    "                              for j in range(32)))"
   ]
  },
  {
   "cell_type": "code",
   "execution_count": 128,
   "metadata": {},
   "outputs": [
    {
     "name": "stdout",
     "output_type": "stream",
     "text": [
      "Accuracy of the network on the train images: 97 %\n"
     ]
    }
   ],
   "source": [
    "correct = 0\n",
    "total = 0\n",
    "for data in iter(training_loader):\n",
    "    images, labels = data\n",
    "    outputs = net(Variable(images.cuda()))\n",
    "    _, predicted = torch.max(outputs.data, 1)\n",
    "    total += labels.size(0)\n",
    "    correct += (predicted == labels.cuda()).sum()\n",
    "\n",
    "print('Accuracy of the network on the train images: %d %%' % (\n",
    "    100 * correct / total))"
   ]
  },
  {
   "cell_type": "code",
   "execution_count": 127,
   "metadata": {},
   "outputs": [
    {
     "name": "stdout",
     "output_type": "stream",
     "text": [
      "Accuracy of the network on the 10000 test images: 65 %\n"
     ]
    }
   ],
   "source": [
    "correct = 0\n",
    "total = 0\n",
    "for data in iter(test_loader):\n",
    "    images, labels = data\n",
    "    outputs = net(Variable(images.cuda()))\n",
    "    _, predicted = torch.max(outputs.data, 1)\n",
    "    total += labels.size(0)\n",
    "    correct += (predicted == labels.cuda()).sum()\n",
    "\n",
    "print('Accuracy of the network on the 10000 test images: %d %%' % (\n",
    "    100 * correct / total))"
   ]
  },
  {
   "cell_type": "markdown",
   "metadata": {},
   "source": [
    "### the model is clearly over fitted, the variance is very high"
   ]
  },
  {
   "cell_type": "markdown",
   "metadata": {},
   "source": [
    "we need to use regularization "
   ]
  },
  {
   "cell_type": "code",
   "execution_count": 19,
   "metadata": {
    "collapsed": true
   },
   "outputs": [],
   "source": [
    "class NetWithDropout(nn.Module):\n",
    "    def __init__(self):\n",
    "        super(NetWithDropout, self).__init__()\n",
    "        self.conv1 = nn.Conv2d(3, 16, 5)\n",
    "        self.pool = nn.MaxPool2d(2, 2)\n",
    "        \n",
    "        self.conv2 = nn.Conv2d(16, 32, 3)\n",
    "        self.conv3 = nn.Conv2d(32, 64, 3)\n",
    "        self.fc1 = nn.Linear(64 * 10 * 10, 1024)\n",
    "        self.fc2 = nn.Linear(1024, 128)\n",
    "        self.fc3 = nn.Linear(128, 10)\n",
    "\n",
    "    def forward(self, x):\n",
    "        x = self.pool(F.relu(self.conv1(x)))\n",
    "        x = F.relu(self.conv2(x))\n",
    "        x = F.relu(self.conv3(x))\n",
    "        x = x.view(-1, 64 * 10 * 10)\n",
    "        x = F.relu(self.fc1(x))\n",
    "        x = F.dropout(x)\n",
    "        x = F.relu(self.fc2(x))\n",
    "        x = self.fc3(x)\n",
    "        return x"
   ]
  },
  {
   "cell_type": "code",
   "execution_count": 20,
   "metadata": {
    "collapsed": true
   },
   "outputs": [],
   "source": [
    "net_with_dropout = NetWithDropout().cuda()\n",
    "criterion = nn.CrossEntropyLoss()\n",
    "optimizer = Adam(net_with_dropout.parameters(), lr=0.001)\n",
    "history = []"
   ]
  },
  {
   "cell_type": "code",
   "execution_count": 14,
   "metadata": {},
   "outputs": [
    {
     "name": "stdout",
     "output_type": "stream",
     "text": [
      " loss : 1.794907, total epoch loss: 2253.035156\n",
      " epoch1 loss: 2253.035156\n",
      " loss : 1.496243, total epoch loss: 1605.981445\n",
      " epoch2 loss: 1605.981445\n",
      " loss : 1.224754, total epoch loss: 1203.689209\n",
      " epoch3 loss: 1203.689209\n",
      " loss : 0.658230, total epoch loss: 872.550049\n",
      " epoch4 loss: 872.550049\n",
      " loss : 0.964605, total epoch loss: 623.819641\n",
      " epoch5 loss: 623.819641\n",
      " loss : 0.280834, total epoch loss: 442.647278\n",
      " epoch6 loss: 442.647278\n",
      " loss : 0.060958, total epoch loss: 320.119781\n",
      " epoch7 loss: 320.119781\n",
      " loss : 0.296577, total epoch loss: 228.378128\n",
      " epoch8 loss: 228.378128\n",
      " loss : 0.194873, total epoch loss: 203.845047\n",
      " epoch9 loss: 203.845047\n",
      " loss : 0.003161, total epoch loss: 176.803223\n",
      " epoch10 loss: 176.803223\n",
      " loss : 0.051296, total epoch loss: 160.239960\n",
      " epoch11 loss: 160.239960\n",
      " loss : 0.003455, total epoch loss: 142.182648\n",
      " epoch12 loss: 142.182648\n",
      " loss : 0.161545, total epoch loss: 138.245010\n",
      " epoch13 loss: 138.245010\n",
      " loss : 0.007262, total epoch loss: 127.032295\n",
      " epoch14 loss: 127.032295\n",
      " loss : 0.002494, total epoch loss: 121.833221\n",
      " epoch15 loss: 121.833221\n",
      " loss : 0.024150, total epoch loss: 113.486923\n",
      " epoch16 loss: 113.486923\n",
      " loss : 0.004750, total epoch loss: 105.873199\n",
      " epoch17 loss: 105.873199\n",
      " loss : 0.722751, total epoch loss: 107.536736\n",
      " epoch18 loss: 107.536736\n",
      " loss : 0.000871, total epoch loss: 96.253815\n",
      " epoch19 loss: 96.253815\n",
      " loss : 0.055180, total epoch loss: 96.488388\n",
      " epoch20 loss: 96.488388\n"
     ]
    }
   ],
   "source": [
    "epochs = 20\n",
    "for epoch in range(epochs):\n",
    "    epoch_loss = torch.FloatTensor([0])\n",
    "    for sample_x, sample_y in iter(training_loader):\n",
    "        x, y = Variable(sample_x.cuda()), Variable(sample_y.cuda())\n",
    "        \n",
    "        optimizer.zero_grad()\n",
    "        \n",
    "        y_hat = net_with_dropout(x)\n",
    "        \n",
    "        loss = criterion(y_hat, y)\n",
    "        loss.backward()\n",
    "        optimizer.step()\n",
    "        \n",
    "        epoch_loss += loss.cpu().data\n",
    "        sys.stdout.write(\"\\r loss : {:6f}, total epoch loss: {:6f}\".format(loss.data[0], epoch_loss[0]))\n",
    "    \n",
    "    history.append(epoch_loss[0])    \n",
    "    print (\"\\n epoch{} loss: {:6f}\".format(epoch +1 , epoch_loss[0]))"
   ]
  },
  {
   "cell_type": "code",
   "execution_count": 15,
   "metadata": {},
   "outputs": [
    {
     "data": {
      "text/plain": [
       "[<matplotlib.lines.Line2D at 0x7fae28182dd8>]"
      ]
     },
     "execution_count": 15,
     "metadata": {},
     "output_type": "execute_result"
    },
    {
     "data": {
      "image/png": "[encoded data removed]",
      "text/plain": [
       "<matplotlib.figure.Figure at 0x7fae29e9dc18>"
      ]
     },
     "metadata": {},
     "output_type": "display_data"
    }
   ],
   "source": [
    "plt.plot(numpy.array(history))"
   ]
  },
  {
   "cell_type": "code",
   "execution_count": 17,
   "metadata": {},
   "outputs": [
    {
     "name": "stdout",
     "output_type": "stream",
     "text": [
      "Accuracy of the network on the train images: 97 %\n"
     ]
    }
   ],
   "source": [
    "correct = 0\n",
    "total = 0\n",
    "for data in iter(training_loader):\n",
    "    images, labels = data\n",
    "    outputs = net_with_dropout(Variable(images.cuda()))\n",
    "    _, predicted = torch.max(outputs.data, 1)\n",
    "    total += labels.size(0)\n",
    "    correct += (predicted == labels.cuda()).sum()\n",
    "\n",
    "print('Accuracy of the network on the train images: %d %%' % (\n",
    "    100 * correct / total))"
   ]
  },
  {
   "cell_type": "code",
   "execution_count": 18,
   "metadata": {},
   "outputs": [
    {
     "name": "stdout",
     "output_type": "stream",
     "text": [
      "Accuracy of the network on the 10000 test images: 66 %\n"
     ]
    }
   ],
   "source": [
    "correct = 0\n",
    "total = 0\n",
    "for data in iter(test_loader):\n",
    "    images, labels = data\n",
    "    outputs = net_with_dropout(Variable(images.cuda()))\n",
    "    _, predicted = torch.max(outputs.data, 1)\n",
    "    total += labels.size(0)\n",
    "    correct += (predicted == labels.cuda()).sum()\n",
    "\n",
    "print('Accuracy of the network on the 10000 test images: %d %%' % (\n",
    "    100 * correct / total))"
   ]
  },
  {
   "cell_type": "code",
   "execution_count": 31,
   "metadata": {
    "collapsed": true
   },
   "outputs": [],
   "source": [
    "class NetWithDropout(nn.Module):\n",
    "    def __init__(self):\n",
    "        super(NetWithDropout, self).__init__()\n",
    "        self.conv1 = nn.Conv2d(3, 16, 5)\n",
    "        self.pool = nn.MaxPool2d(2, 2)\n",
    "        \n",
    "        self.conv2 = nn.Conv2d(16, 32, 3)\n",
    "        self.conv3 = nn.Conv2d(32, 64, 3)\n",
    "        self.fc1 = nn.Linear(64 * 10 * 10, 1024)\n",
    "        self.fc2 = nn.Linear(1024, 128)\n",
    "        self.fc3 = nn.Linear(128, 10)\n",
    "\n",
    "    def forward(self, x):\n",
    "        x = self.pool(F.relu(self.conv1(x)))\n",
    "        x = F.relu(self.conv2(x))\n",
    "        x = F.dropout2d(x)\n",
    "        x = F.relu(self.conv3(x))\n",
    "        x = x.view(-1, 64 * 10 * 10)\n",
    "        x = F.relu(self.fc1(x))\n",
    "        x = F.dropout(x)\n",
    "        x = F.relu(self.fc2(x))\n",
    "        x = F.dropout(x)\n",
    "        x = self.fc3(x)\n",
    "        return x"
   ]
  },
  {
   "cell_type": "code",
   "execution_count": 44,
   "metadata": {
    "collapsed": true
   },
   "outputs": [],
   "source": [
    "loss_history = []\n",
    "train_history = []\n",
    "test_history = []\n",
    "history = []"
   ]
  },
  {
   "cell_type": "code",
   "execution_count": null,
   "metadata": {
    "collapsed": true
   },
   "outputs": [],
   "source": [
    "net_with_dropout2 = NetWithDropout().cuda()\n",
    "criterion = nn.CrossEntropyLoss()"
   ]
  },
  {
   "cell_type": "code",
   "execution_count": 107,
   "metadata": {
    "collapsed": true
   },
   "outputs": [],
   "source": [
    "optimizer = Adam(net_with_dropout2.parameters(), lr=0.0001, weight_decay=0.005)"
   ]
  },
  {
   "cell_type": "code",
   "execution_count": 108,
   "metadata": {},
   "outputs": [
    {
     "name": "stdout",
     "output_type": "stream",
     "text": [
      "loss : 1.704743, total epoch loss: 1838.733032\\Accuracy of the network on the train images: 59 %\n",
      "Accuracy of the network on the test images: 58 %\n",
      "epoch1 loss: 1838.733032\n",
      "loss : 1.704209, total epoch loss: 1843.080811\\Accuracy of the network on the train images: 58 %\n",
      "Accuracy of the network on the test images: 57 %\n",
      "epoch2 loss: 1843.080811\n",
      "loss : 1.704686, total epoch loss: 1852.558350\\Accuracy of the network on the train images: 58 %\n",
      "Accuracy of the network on the test images: 57 %\n",
      "epoch3 loss: 1852.558350\n",
      "loss : 1.709072, total epoch loss: 1861.777222\\Accuracy of the network on the train images: 58 %\n",
      "Accuracy of the network on the test images: 57 %\n",
      "epoch4 loss: 1861.777222\n",
      "loss : 1.714089, total epoch loss: 1870.565186\\Accuracy of the network on the train images: 58 %\n",
      "Accuracy of the network on the test images: 57 %\n",
      "epoch5 loss: 1870.565186\n",
      "loss : 1.716963, total epoch loss: 1878.611084\\Accuracy of the network on the train images: 57 %\n",
      "Accuracy of the network on the test images: 57 %\n",
      "epoch6 loss: 1878.611084\n",
      "loss : 1.720656, total epoch loss: 1886.134521\\Accuracy of the network on the train images: 57 %\n",
      "Accuracy of the network on the test images: 56 %\n",
      "epoch7 loss: 1886.134521\n",
      "loss : 1.721404, total epoch loss: 1892.981689\\Accuracy of the network on the train images: 57 %\n",
      "Accuracy of the network on the test images: 56 %\n",
      "epoch8 loss: 1892.981689\n",
      "loss : 1.721997, total epoch loss: 1899.192505\\Accuracy of the network on the train images: 57 %\n",
      "Accuracy of the network on the test images: 56 %\n",
      "epoch9 loss: 1899.192505\n",
      "loss : 1.722290, total epoch loss: 1905.012695\\Accuracy of the network on the train images: 57 %\n",
      "Accuracy of the network on the test images: 56 %\n",
      "epoch10 loss: 1905.012695\n"
     ]
    }
   ],
   "source": [
    "epochs = 10\n",
    "for epoch in range(epochs):\n",
    "    epoch_loss = torch.FloatTensor([0])\n",
    "    for sample_x, sample_y in iter(training_loader):\n",
    "        x, y = Variable(sample_x.cuda()), Variable(sample_y.cuda())\n",
    "        \n",
    "        optimizer.zero_grad()\n",
    "        \n",
    "        y_hat = net_with_dropout2(x)\n",
    "        \n",
    "        loss = criterion(y_hat, y)\n",
    "        loss.backward()\n",
    "        optimizer.step()\n",
    "        history.append(loss.cpu().data[0])\n",
    "        epoch_loss += loss.cpu().data\n",
    "        sys.stdout.write(\"\\rloss : {:6f}, total epoch loss: {:6f}\".format(loss.data[0], epoch_loss[0]))\n",
    "    \n",
    "    correct = 0\n",
    "    total = 0\n",
    "    for data in iter(training_loader):\n",
    "        images, labels = data\n",
    "        outputs = net_with_dropout2(Variable(images.cuda()))\n",
    "        _, predicted = torch.max(outputs.data, 1)\n",
    "        total += labels.size(0)\n",
    "        correct += (predicted == labels.cuda()).sum()\n",
    "    train_history.append(correct / total)\n",
    "    \n",
    "    print('\\Accuracy of the network on the train images: %d %%' % (100 * correct / total))\n",
    "    \n",
    "    correct = 0\n",
    "    total = 0\n",
    "    for data in iter(test_loader):\n",
    "        images, labels = data\n",
    "        outputs = net_with_dropout2(Variable(images.cuda()))\n",
    "        _, predicted = torch.max(outputs.data, 1)\n",
    "        total += labels.size(0)\n",
    "        correct += (predicted == labels.cuda()).sum()\n",
    "        \n",
    "    print('Accuracy of the network on the test images: %d %%' % (100 * correct / total))\n",
    "    test_history.append(correct / total)\n",
    "    \n",
    "    loss_history.append(epoch_loss[0])    \n",
    "    print (\"epoch{} loss: {:6f}\".format(epoch +1 , epoch_loss[0]))"
   ]
  },
  {
   "cell_type": "code",
   "execution_count": 109,
   "metadata": {},
   "outputs": [
    {
     "data": {
      "text/plain": [
       "[<matplotlib.lines.Line2D at 0x7fae11a50400>]"
      ]
     },
     "execution_count": 109,
     "metadata": {},
     "output_type": "execute_result"
    },
    {
     "data": {
      "image/png": "[encoded data removed]",
      "text/plain": [
       "<matplotlib.figure.Figure at 0x7fae11b34e48>"
      ]
     },
     "metadata": {},
     "output_type": "display_data"
    }
   ],
   "source": [
    "plt.plot(numpy.array(loss_history))"
   ]
  },
  {
   "cell_type": "code",
   "execution_count": 110,
   "metadata": {},
   "outputs": [
    {
     "data": {
      "text/plain": [
       "[<matplotlib.lines.Line2D at 0x7fae11a12898>]"
      ]
     },
     "execution_count": 110,
     "metadata": {},
     "output_type": "execute_result"
    },
    {
     "data": {
      "image/png": "[encoded data removed]",
      "text/plain": [
       "<matplotlib.figure.Figure at 0x7fae11abb668>"
      ]
     },
     "metadata": {},
     "output_type": "display_data"
    }
   ],
   "source": [
    "plt.plot(numpy.array(train_history))"
   ]
  },
  {
   "cell_type": "code",
   "execution_count": 111,
   "metadata": {},
   "outputs": [
    {
     "data": {
      "text/plain": [
       "[<matplotlib.lines.Line2D at 0x7fae119d3518>]"
      ]
     },
     "execution_count": 111,
     "metadata": {},
     "output_type": "execute_result"
    },
    {
     "data": {
      "image/png": "[encoded data removed]",
      "text/plain": [
       "<matplotlib.figure.Figure at 0x7fae11b632e8>"
      ]
     },
     "metadata": {},
     "output_type": "display_data"
    }
   ],
   "source": [
    "plt.plot(numpy.array(test_history))"
   ]
  },
  {
   "cell_type": "code",
   "execution_count": null,
   "metadata": {
    "collapsed": true
   },
   "outputs": [],
   "source": []
  }
 ],
 "metadata": {
  "kernelspec": {
   "display_name": "Python 3",
   "language": "python",
   "name": "python3"
  },
  "language_info": {
   "codemirror_mode": {
    "name": "ipython",
    "version": 3
   },
   "file_extension": ".py",
   "mimetype": "text/x-python",
   "name": "python",
   "nbconvert_exporter": "python",
   "pygments_lexer": "ipython3",
   "version": "3.6.3"
  }
 },
 "nbformat": 4,
 "nbformat_minor": 2
}
